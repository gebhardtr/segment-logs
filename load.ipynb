{
 "cells": [
  {
   "cell_type": "code",
   "execution_count": null,
   "id": "c3a597e1",
   "metadata": {},
   "outputs": [],
   "source": [
    "import boto3\n",
    "import os\n",
    "import pandas as pd\n",
    "import re\n",
    "from tqdm import tqdm"
   ]
  },
  {
   "cell_type": "code",
   "execution_count": null,
   "id": "2549a11b",
   "metadata": {},
   "outputs": [],
   "source": [
    "s3 = boto3.resource(\"s3\")\n",
    "\n",
    "m = re.search(r\"s3://([^/]+)/(.*?([^/]+)/?)\", os.environ[\"AWS_S3_URI\"])\n",
    "\n",
    "bucket = s3.Bucket(m.group(1))\n",
    "objects = bucket.objects.filter(Prefix=m.group(2))\n",
    "\n",
    "df = pd.DataFrame()"
   ]
  },
  {
   "cell_type": "code",
   "execution_count": null,
   "id": "c49f2d53",
   "metadata": {},
   "outputs": [],
   "source": [
    "for obj in tqdm(objects):\n",
    "    try:\n",
    "        tempdf = pd.read_json(\n",
    "            obj.get()[\"Body\"], lines=True, compression=\"gzip\", encoding=\"utf-8\"\n",
    "        )\n",
    "        props = pd.json_normalize(tempdf[\"properties\"])\n",
    "        tempdf.drop(columns=[\"properties\"])\n",
    "        df = pd.concat([df, tempdf, props])\n",
    "    except Exception as e:\n",
    "        print(e)"
   ]
  },
  {
   "cell_type": "code",
   "execution_count": null,
   "id": "1d7c07ab",
   "metadata": {},
   "outputs": [],
   "source": [
    "df"
   ]
  }
 ],
 "metadata": {
  "kernelspec": {
   "display_name": "Python 3 (ipykernel)",
   "language": "python",
   "name": "python3"
  },
  "language_info": {
   "codemirror_mode": {
    "name": "ipython",
    "version": 3
   },
   "file_extension": ".py",
   "mimetype": "text/x-python",
   "name": "python",
   "nbconvert_exporter": "python",
   "pygments_lexer": "ipython3",
   "version": "3.9.16"
  }
 },
 "nbformat": 4,
 "nbformat_minor": 5
}
